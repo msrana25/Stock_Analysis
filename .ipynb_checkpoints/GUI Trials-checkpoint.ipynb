{
 "cells": [
  {
   "cell_type": "code",
   "execution_count": 7,
   "id": "65553825",
   "metadata": {},
   "outputs": [
    {
     "name": "stdout",
     "output_type": "stream",
     "text": [
      "Requirement already satisfied: Pillow in c:\\users\\roshan\\appdata\\local\\programs\\python\\python310\\lib\\site-packages (9.2.0)\n"
     ]
    },
    {
     "name": "stderr",
     "output_type": "stream",
     "text": [
      "WARNING: You are using pip version 22.0.4; however, version 22.3 is available.\n",
      "You should consider upgrading via the 'C:\\Users\\roshan\\AppData\\Local\\Programs\\Python\\Python310\\python.exe -m pip install --upgrade pip' command.\n"
     ]
    }
   ],
   "source": [
    "!pip install Pillow"
   ]
  },
  {
   "cell_type": "code",
   "execution_count": 5,
   "id": "04b45d79",
   "metadata": {},
   "outputs": [
    {
     "name": "stdout",
     "output_type": "stream",
     "text": [
      "MySQL Database connection successful\n"
     ]
    }
   ],
   "source": [
    "import tkinter as tk\n",
    "import matplotlib.pyplot as plt\n",
    "from matplotlib.backends.backend_tkagg import FigureCanvasTkAgg\n",
    "import pandas as pd\n",
    "from functools import partial\n",
    "\n",
    "%load_ext autoreload\n",
    "%autoreload 1\n",
    "%aimport Final"
   ]
  },
  {
   "cell_type": "code",
   "execution_count": 7,
   "id": "003e4b69",
   "metadata": {},
   "outputs": [],
   "source": [
    "HEIGHT = 650\n",
    "WIDTH = 1000\n",
    "global stock_choice\n",
    "stock_choice = 'GOOGL'"
   ]
  },
  {
   "cell_type": "markdown",
   "id": "cf39d06b",
   "metadata": {},
   "source": [
    "root = tk.Tk()\n",
    "canvas = tk.Canvas(root, height = HEIGHT, width = WIDTH, bg = '#dbfffb')\n",
    "canvas.pack()\n",
    "\n",
    "stock_frame = tk.Frame(root, bg = '#ffdbfb')\n",
    "stock_frame.place(relx = 0.05, rely = 0.05, relwidth = 0.25, relheight = 0.9)\n",
    "\n",
    "graph_frame = tk.Frame(root, bg = '#cfdafc')\n",
    "graph_frame.place(relx = 0.35, rely = 0.15, relwidth = 0.6, relheight = 0.7)\n",
    "\n",
    "plot_frame = tk.Frame(graph_frame, bg = '#d6fccf')\n",
    "plot_frame.place(relx = 0.001, rely = 0, relwidth = 1 , relheight = 0.725)\n",
    "\n",
    "time_frame = tk.Frame(graph_frame, bg = '#d6fccf')\n",
    "time_frame.place(relx = 0.05, rely = 0.75, relwidth = 0.9 , relheight = 0.2)"
   ]
  },
  {
   "cell_type": "code",
   "execution_count": 11,
   "id": "e1a651fa",
   "metadata": {},
   "outputs": [
    {
     "name": "stdout",
     "output_type": "stream",
     "text": [
      "GOOGL\n"
     ]
    }
   ],
   "source": [
    "root = tk.Tk()\n",
    "root.title(\"STOCK ANALYSIS\")\n",
    "\n",
    "\n",
    "canvas = tk.Canvas(root, height = HEIGHT, width = WIDTH, bg = '#dbfffb')\n",
    "canvas.pack()\n",
    "\n",
    "stock_frame = tk.Frame(root, bg = '#ffdbfb')\n",
    "stock_frame.place(relx = 0.05, rely = 0.05, relwidth = 0.25, relheight = 0.9)\n",
    "\n",
    "graph_frame = tk.Frame(root, bg = '#cfdafc')\n",
    "graph_frame.place(relx = 0.35, rely = 0.15, relwidth = 0.6, relheight = 0.7)\n",
    "\n",
    "time_frame = tk.Frame(graph_frame, bg = '#d6fccf')\n",
    "time_frame.place(relx = 0.05, rely = 0.85, relwidth = 0.9 , relheight = 0.1)\n",
    "    \n",
    "def create_stock_buttons(stocks):\n",
    "    for i, j in zip(range(1, len(stocks)+1), stocks):\n",
    "        button = tk.Button(stock_frame, bd = 1, relief = 'ridge', text = \"%s\"%(j), command = plot_graph(j, '1 W'))\n",
    "        button.place(relx = 0.2, rely = 0.2*i, relwidth = 0.6, relheight = 0.1)\n",
    "    \n",
    "#'15min',\n",
    "def create_time_buttons(time_stamps = [ '1 H', '1 D', '1 W']):\n",
    "    for i, j in zip(range(0, len(time_stamps)), time_stamps):\n",
    "        button = tk.Button(time_frame, bd = 1, relief = 'ridge',text = \"%s\"%(j), command = plot_graph(stock_choice, j))\n",
    "        button.place(relx = 0.06*i*1.7, rely = 0.15, relwidth = 0.09, relheight = 0.7)\n",
    "\n",
    "\n",
    "def create_TA_dropdown(technical_analysis_tools = ['SMA', 'EMA', 'RSI', 'Bollinger']):\n",
    "    def_value = tk.StringVar(time_frame)\n",
    "    def_value.set(\"-Technical Analysis Tools-\")\n",
    "    drop = tk.OptionMenu( time_frame, def_value, *technical_analysis_tools )\n",
    "    drop.place(relx = 0.45, rely = 0.1, relwidth = 0.5 , relheight = 0.8)\n",
    "    \n",
    "\n",
    "def graph_plotter_data(stock, interval):\n",
    "    plot_data = {}\n",
    "    Xticks = []\n",
    "    if (interval == '1 H'): \n",
    "        data = Final.hourly_data \n",
    "        Xticks = [str(i).split()[0] for n, i in zip(range(len(data[stock])), data[stock])  if (n % 20 == 0)]\n",
    "        Xticks.reverse()\n",
    "\n",
    "    elif (interval == '1 D'): data = Final.daily_data\n",
    "    elif (interval == '1 W'): \n",
    "        data = Final.update_weekly_data([stock])\n",
    "    elif (interval == '15 min'):\n",
    "        pass\n",
    "    plot_data[interval] = [str(i) for i in data[stock]]\n",
    "    plot_data['Values'] = [float(data[stock][i]['Close']) for i in data[stock]]\n",
    "    dataframe = pd.DataFrame(plot_data)\n",
    "    return dataframe, Xticks\n",
    "\n",
    "def plot_graph(stock, interval = '1 H'):\n",
    "    \n",
    "    plot_frame = tk.Frame(graph_frame, bg = '#d6fccf')\n",
    "    plot_frame.place(relx = 0.001, rely = 0, relwidth = 1 , relheight = 0.8)\n",
    "    \n",
    "    stock_choice = stock\n",
    "    \n",
    "    dataframe, Xticks = graph_plotter_data(stock, interval)\n",
    "    figure2 = plt.Figure(figsize = (7, 5), dpi = 100)\n",
    "    ax2 = figure2.add_subplot(111)\n",
    "    line2 = FigureCanvasTkAgg(figure2, plot_frame)\n",
    "    line2.get_tk_widget().pack(side = tk.LEFT, fill = tk.BOTH)\n",
    "    df2 = dataframe[[interval, 'Values']].groupby(interval).sum()\n",
    "    df2.plot(kind = 'line', ax = ax2, color = 'r', fontsize = 8)\n",
    "\n",
    "    ax = figure2.gca()\n",
    "    ax.set_facecolor('#dbfffb')\n",
    "    figure2.set_facecolor('#dbfffb')\n",
    "\n",
    "\n",
    "create_stock_buttons(Final.stocks)\n",
    "create_TA_dropdown()\n",
    "create_time_buttons()\n",
    "print(stock_choice)\n",
    "\n",
    "\n",
    "root.mainloop()"
   ]
  },
  {
   "cell_type": "code",
   "execution_count": 4,
   "id": "4f7629c5",
   "metadata": {},
   "outputs": [
    {
     "data": {
      "text/html": [
       "<div>\n",
       "<style scoped>\n",
       "    .dataframe tbody tr th:only-of-type {\n",
       "        vertical-align: middle;\n",
       "    }\n",
       "\n",
       "    .dataframe tbody tr th {\n",
       "        vertical-align: top;\n",
       "    }\n",
       "\n",
       "    .dataframe thead th {\n",
       "        text-align: right;\n",
       "    }\n",
       "</style>\n",
       "<table border=\"1\" class=\"dataframe\">\n",
       "  <thead>\n",
       "    <tr style=\"text-align: right;\">\n",
       "      <th></th>\n",
       "      <th>Days</th>\n",
       "      <th>Values</th>\n",
       "    </tr>\n",
       "  </thead>\n",
       "  <tbody>\n",
       "    <tr>\n",
       "      <th>0</th>\n",
       "      <td>2022-11-04</td>\n",
       "      <td>86.53</td>\n",
       "    </tr>\n",
       "    <tr>\n",
       "      <th>1</th>\n",
       "      <td>2022-10-28</td>\n",
       "      <td>96.33</td>\n",
       "    </tr>\n",
       "    <tr>\n",
       "      <th>2</th>\n",
       "      <td>2022-10-21</td>\n",
       "      <td>101.22</td>\n",
       "    </tr>\n",
       "    <tr>\n",
       "      <th>3</th>\n",
       "      <td>2022-10-14</td>\n",
       "      <td>96.30</td>\n",
       "    </tr>\n",
       "    <tr>\n",
       "      <th>4</th>\n",
       "      <td>2022-10-07</td>\n",
       "      <td>98.72</td>\n",
       "    </tr>\n",
       "  </tbody>\n",
       "</table>\n",
       "</div>"
      ],
      "text/plain": [
       "         Days  Values\n",
       "0  2022-11-04   86.53\n",
       "1  2022-10-28   96.33\n",
       "2  2022-10-21  101.22\n",
       "3  2022-10-14   96.30\n",
       "4  2022-10-07   98.72"
      ]
     },
     "execution_count": 4,
     "metadata": {},
     "output_type": "execute_result"
    }
   ],
   "source": [
    "weekly = {}\n",
    "\n",
    "weekly['Days'] = [i for i in Final.weekly_data['GOOGL']]\n",
    "weekly['Values'] = [float(Final.weekly_data['GOOGL'][i]['Close']) for i in Final.weekly_data['GOOGL']]\n",
    "week = pd.DataFrame(weekly)\n",
    "week\n",
    "\n",
    "\n",
    "\n",
    "print([Xrange[i] for i in range(3, len(Xrange), 4)])\n",
    "\n",
    "XRange = [Xrange[i] for i in range(3, len(Xrange), 4)]\n",
    "XRange.insert(0, Xrange[0])\n",
    "ax2.set_xticklabels(XRange)\n",
    "\n",
    "\n",
    "       \n",
    "weekly = {}\n",
    "weekly['Weeks'] = [str(i) for i in Final.weekly_data['GOOGL']]\n",
    "weekly['Values'] = [float(Final.weekly_data['GOOGL'][i]['Close']) for i in Final.weekly_data['GOOGL']]\n",
    "week = pd.DataFrame(weekly)\n",
    "\n",
    "daily = {}\n",
    "daily['Days'] = [str(i) for i in Final.daily_data['GOOGL']]\n",
    "daily['Values'] = [float(Final.daily_data['GOOGL'][i]['Close']) for i in Final.daily_data['GOOGL']]\n",
    "days = pd.DataFrame(daily)\n",
    "\n",
    "hourly = {}\n",
    "hourly['Hours'] = [str(i) for i in Final.hourly_data['GOOGL']]\n",
    "hourly['Values'] = [float(Final.hourly_data['GOOGL'][i]['Close']) for i in Final.hourly_data['GOOGL']]\n",
    "hours = pd.DataFrame(hourly)"
   ]
  },
  {
   "cell_type": "code",
   "execution_count": 41,
   "id": "848bde0d",
   "metadata": {},
   "outputs": [
    {
     "name": "stdout",
     "output_type": "stream",
     "text": [
      "{datetime.datetime(2022, 11, 4, 20, 0): {'Open': 86.52, 'High': 86.53, 'Low': 86.45, 'Close': 86.53}, datetime.datetime(2022, 11, 4, 19, 0): {'Open': 86.53, 'High': 86.52, 'Low': 86.45, 'Close': 86.52}, datetime.datetime(2022, 11, 4, 18, 0): {'Open': 86.42, 'High': 86.53, 'Low': 86.3899, 'Close': 86.53}, datetime.datetime(2022, 11, 4, 17, 0): {'Open': 86.64, 'High': 86.75, 'Low': 84.0, 'Close': 86.42}, datetime.datetime(2022, 11, 4, 16, 0): {'Open': 86.25, 'High': 86.64, 'Low': 86.05, 'Close': 86.64}, datetime.datetime(2022, 11, 4, 15, 0): {'Open': 85.36, 'High': 86.265, 'Low': 85.0, 'Close': 86.25}, datetime.datetime(2022, 11, 4, 14, 0): {'Open': 85.16, 'High': 85.48, 'Low': 84.72, 'Close': 85.36}, datetime.datetime(2022, 11, 4, 13, 0): {'Open': 84.405, 'High': 85.5393, 'Low': 84.11, 'Close': 85.16}, datetime.datetime(2022, 11, 4, 12, 0): {'Open': 85.51, 'High': 85.7, 'Low': 84.22, 'Close': 84.405}, datetime.datetime(2022, 11, 4, 11, 0): {'Open': 84.825, 'High': 86.35, 'Low': 84.53, 'Close': 85.51}, datetime.datetime(2022, 11, 4, 10, 0): {'Open': 84.75, 'High': 85.99, 'Low': 83.71, 'Close': 84.825}, datetime.datetime(2022, 11, 4, 9, 0): {'Open': 84.45, 'High': 84.9, 'Low': 83.222, 'Close': 84.75}, datetime.datetime(2022, 11, 4, 8, 0): {'Open': 84.46, 'High': 84.55, 'Low': 84.15, 'Close': 84.45}, datetime.datetime(2022, 11, 4, 7, 0): {'Open': 84.36, 'High': 84.59, 'Low': 84.1, 'Close': 84.46}, datetime.datetime(2022, 11, 4, 6, 0): {'Open': 84.21, 'High': 84.52, 'Low': 84.11, 'Close': 84.36}, datetime.datetime(2022, 11, 4, 5, 0): {'Open': 83.68, 'High': 85.52, 'Low': 83.8, 'Close': 84.21}, datetime.datetime(2022, 11, 3, 20, 0): {'Open': 83.69, 'High': 83.75, 'Low': 83.5, 'Close': 83.68}, datetime.datetime(2022, 11, 3, 19, 0): {'Open': 83.47, 'High': 83.76, 'Low': 83.5, 'Close': 83.69}, datetime.datetime(2022, 11, 3, 18, 0): {'Open': 83.66, 'High': 83.71, 'Low': 83.44, 'Close': 83.47}, datetime.datetime(2022, 11, 3, 17, 0): {'Open': 83.41, 'High': 83.7, 'Low': 83.41, 'Close': 83.66}, datetime.datetime(2022, 11, 3, 16, 0): {'Open': 84.27, 'High': 84.31, 'Low': 83.34, 'Close': 83.41}, datetime.datetime(2022, 11, 3, 15, 0): {'Open': 84.465, 'High': 84.55, 'Low': 84.0, 'Close': 84.27}, datetime.datetime(2022, 11, 3, 14, 0): {'Open': 85.3982, 'High': 85.43, 'Low': 84.39, 'Close': 84.465}, datetime.datetime(2022, 11, 3, 13, 0): {'Open': 84.71, 'High': 85.43, 'Low': 84.59, 'Close': 85.3982}, datetime.datetime(2022, 11, 3, 12, 0): {'Open': 85.78, 'High': 85.95, 'Low': 84.61, 'Close': 84.71}, datetime.datetime(2022, 11, 3, 11, 0): {'Open': 85.5, 'High': 85.99, 'Low': 85.075, 'Close': 85.78}, datetime.datetime(2022, 11, 3, 10, 0): {'Open': 86.53, 'High': 86.81, 'Low': 85.47, 'Close': 85.5}, datetime.datetime(2022, 11, 3, 9, 0): {'Open': 86.58, 'High': 86.99, 'Low': 86.38, 'Close': 86.53}, datetime.datetime(2022, 11, 3, 8, 0): {'Open': 86.76, 'High': 87.04, 'Low': 86.52, 'Close': 86.58}, datetime.datetime(2022, 11, 3, 7, 0): {'Open': 87.08, 'High': 87.18, 'Low': 86.66, 'Close': 86.76}, datetime.datetime(2022, 11, 3, 6, 0): {'Open': 87.01, 'High': 87.31, 'Low': 87.06, 'Close': 87.08}, datetime.datetime(2022, 11, 3, 5, 0): {'Open': 87.04, 'High': 87.97, 'Low': 86.97, 'Close': 87.01}, datetime.datetime(2022, 11, 2, 20, 0): {'Open': 86.92, 'High': 87.05, 'Low': 86.82, 'Close': 87.04}, datetime.datetime(2022, 11, 2, 19, 0): {'Open': 86.95, 'High': 86.99, 'Low': 86.74, 'Close': 86.92}, datetime.datetime(2022, 11, 2, 18, 0): {'Open': 86.97, 'High': 87.08, 'Low': 86.9, 'Close': 86.95}, datetime.datetime(2022, 11, 2, 17, 0): {'Open': 86.9, 'High': 87.57, 'Low': 86.75, 'Close': 86.97}, datetime.datetime(2022, 11, 2, 16, 0): {'Open': 88.95, 'High': 89.55, 'Low': 86.88, 'Close': 86.9}, datetime.datetime(2022, 11, 2, 15, 0): {'Open': 89.67, 'High': 91.18, 'Low': 88.52, 'Close': 88.95}, datetime.datetime(2022, 11, 2, 14, 0): {'Open': 89.42, 'High': 89.905, 'Low': 89.155, 'Close': 89.67}, datetime.datetime(2022, 11, 2, 13, 0): {'Open': 89.2824, 'High': 89.51, 'Low': 89.06, 'Close': 89.42}, datetime.datetime(2022, 11, 2, 12, 0): {'Open': 89.705, 'High': 89.75, 'Low': 89.04, 'Close': 89.2824}, datetime.datetime(2022, 11, 2, 11, 0): {'Open': 90.02, 'High': 90.31, 'Low': 89.66, 'Close': 89.705}, datetime.datetime(2022, 11, 2, 10, 0): {'Open': 90.83, 'High': 91.06, 'Low': 90.02, 'Close': 90.02}, datetime.datetime(2022, 11, 2, 9, 0): {'Open': 90.79, 'High': 90.96, 'Low': 90.42, 'Close': 90.83}, datetime.datetime(2022, 11, 2, 8, 0): {'Open': 90.72, 'High': 90.88, 'Low': 90.64, 'Close': 90.79}, datetime.datetime(2022, 11, 2, 7, 0): {'Open': 90.67, 'High': 90.77, 'Low': 90.58, 'Close': 90.72}, datetime.datetime(2022, 11, 2, 6, 0): {'Open': 90.97, 'High': 91.08, 'Low': 90.2, 'Close': 90.67}, datetime.datetime(2022, 11, 2, 5, 0): {'Open': 90.58, 'High': 91.35, 'Low': 90.75, 'Close': 90.97}, datetime.datetime(2022, 11, 1, 20, 0): {'Open': 90.68, 'High': 90.73, 'Low': 90.57, 'Close': 90.58}, datetime.datetime(2022, 11, 1, 19, 0): {'Open': 90.55, 'High': 90.68, 'Low': 90.47, 'Close': 90.68}, datetime.datetime(2022, 11, 1, 18, 0): {'Open': 90.5, 'High': 90.59, 'Low': 90.47, 'Close': 90.55}, datetime.datetime(2022, 11, 1, 17, 0): {'Open': 90.47, 'High': 90.59, 'Low': 90.26, 'Close': 90.5}, datetime.datetime(2022, 11, 1, 16, 0): {'Open': 91.335, 'High': 91.37, 'Low': 90.37, 'Close': 90.47}, datetime.datetime(2022, 11, 1, 15, 0): {'Open': 91.91, 'High': 91.96, 'Low': 91.005, 'Close': 91.335}, datetime.datetime(2022, 11, 1, 14, 0): {'Open': 91.8006, 'High': 92.03, 'Low': 91.63, 'Close': 91.91}, datetime.datetime(2022, 11, 1, 13, 0): {'Open': 92.13, 'High': 92.59, 'Low': 91.57, 'Close': 91.8006}, datetime.datetime(2022, 11, 1, 12, 0): {'Open': 92.4, 'High': 92.61, 'Low': 91.915, 'Close': 92.13}, datetime.datetime(2022, 11, 1, 11, 0): {'Open': 94.21, 'High': 95.53, 'Low': 92.3, 'Close': 92.4}, datetime.datetime(2022, 11, 1, 10, 0): {'Open': 95.88, 'High': 96.03, 'Low': 93.935, 'Close': 94.21}, datetime.datetime(2022, 11, 1, 9, 0): {'Open': 95.6, 'High': 95.99, 'Low': 94.55, 'Close': 95.88}, datetime.datetime(2022, 11, 1, 8, 0): {'Open': 95.6, 'High': 95.62, 'Low': 95.11, 'Close': 95.6}, datetime.datetime(2022, 11, 1, 5, 0): {'Open': 94.8, 'High': 95.77, 'Low': 95.59, 'Close': 95.6}, datetime.datetime(2022, 10, 31, 20, 0): {'Open': 94.75, 'High': 95.63, 'Low': 95.45, 'Close': 94.8}, datetime.datetime(2022, 10, 31, 19, 0): {'Open': 94.58, 'High': 97.03, 'Low': 94.8, 'Close': 94.75}, datetime.datetime(2022, 10, 31, 18, 0): {'Open': 94.7, 'High': 94.88, 'Low': 94.7, 'Close': 94.58}, datetime.datetime(2022, 10, 31, 17, 0): {'Open': 94.52, 'High': 94.75, 'Low': 94.56, 'Close': 94.7}, datetime.datetime(2022, 10, 31, 16, 0): {'Open': 94.62, 'High': 94.76, 'Low': 94.51, 'Close': 94.52}, datetime.datetime(2022, 10, 31, 15, 0): {'Open': 94.9299, 'High': 94.77, 'Low': 94.28, 'Close': 94.62}, datetime.datetime(2022, 10, 31, 14, 0): {'Open': 94.55, 'High': 94.84, 'Low': 94.13, 'Close': 94.9299}, datetime.datetime(2022, 10, 31, 13, 0): {'Open': 94.73, 'High': 95.19, 'Low': 94.62, 'Close': 94.55}, datetime.datetime(2022, 10, 31, 12, 0): {'Open': 94.365, 'High': 94.9875, 'Low': 94.35, 'Close': 94.73}, datetime.datetime(2022, 10, 31, 11, 0): {'Open': 94.575, 'High': 95.13, 'Low': 94.445, 'Close': 94.365}, datetime.datetime(2022, 10, 31, 10, 0): {'Open': 95.24, 'High': 94.7359, 'Low': 93.98, 'Close': 94.575}, datetime.datetime(2022, 10, 31, 9, 0): {'Open': 95.41, 'High': 96.03, 'Low': 94.02, 'Close': 95.24}, datetime.datetime(2022, 10, 31, 8, 0): {'Open': 95.28, 'High': 95.55, 'Low': 95.1, 'Close': 95.41}, datetime.datetime(2022, 10, 31, 7, 0): {'Open': 95.45, 'High': 96.29, 'Low': 95.1015, 'Close': 95.28}, datetime.datetime(2022, 10, 31, 6, 0): {'Open': 95.41, 'High': 95.59, 'Low': 94.97, 'Close': 95.45}, datetime.datetime(2022, 10, 31, 5, 0): {'Open': 96.33, 'High': 95.46, 'Low': 95.35, 'Close': 95.41}, datetime.datetime(2022, 10, 28, 20, 0): {'Open': 96.34, 'High': 95.52, 'Low': 95.3, 'Close': 96.33}, datetime.datetime(2022, 10, 28, 19, 0): {'Open': 96.28, 'High': 96.45, 'Low': 95.29, 'Close': 96.34}, datetime.datetime(2022, 10, 28, 18, 0): {'Open': 96.43, 'High': 96.37, 'Low': 96.29, 'Close': 96.28}, datetime.datetime(2022, 10, 28, 17, 0): {'Open': 96.27, 'High': 96.3774, 'Low': 96.28, 'Close': 96.43}, datetime.datetime(2022, 10, 28, 16, 0): {'Open': 96.34, 'High': 96.47, 'Low': 96.22, 'Close': 96.27}, datetime.datetime(2022, 10, 28, 15, 0): {'Open': 95.385, 'High': 96.55, 'Low': 96.12, 'Close': 96.34}, datetime.datetime(2022, 10, 28, 14, 0): {'Open': 94.9377, 'High': 96.48, 'Low': 95.4801, 'Close': 95.385}, datetime.datetime(2022, 10, 28, 13, 0): {'Open': 94.62, 'High': 95.5, 'Low': 95.12, 'Close': 94.9377}, datetime.datetime(2022, 10, 28, 12, 0): {'Open': 94.26, 'High': 95.355, 'Low': 94.445, 'Close': 94.62}, datetime.datetime(2022, 10, 28, 11, 0): {'Open': 92.48, 'High': 94.92, 'Low': 94.2, 'Close': 94.26}, datetime.datetime(2022, 10, 28, 10, 0): {'Open': 91.92, 'High': 95.015, 'Low': 92.74, 'Close': 92.48}, datetime.datetime(2022, 10, 28, 9, 0): {'Open': 91.97, 'High': 93.43, 'Low': 92.05, 'Close': 91.92}, datetime.datetime(2022, 10, 28, 8, 0): {'Open': 91.73, 'High': 92.73, 'Low': 91.72, 'Close': 91.97}, datetime.datetime(2022, 10, 28, 7, 0): {'Open': 91.85, 'High': 92.25, 'Low': 91.7401, 'Close': 91.73}, datetime.datetime(2022, 10, 28, 6, 0): {'Open': 91.85, 'High': 91.9, 'Low': 91.64, 'Close': 91.85}, datetime.datetime(2022, 10, 28, 5, 0): {'Open': 92.0, 'High': 91.93, 'Low': 91.65, 'Close': 91.85}, datetime.datetime(2022, 10, 27, 20, 0): {'Open': 92.19, 'High': 91.91, 'Low': 91.68, 'Close': 92.0}, datetime.datetime(2022, 10, 27, 19, 0): {'Open': 92.28, 'High': 92.23, 'Low': 91.49, 'Close': 92.19}, datetime.datetime(2022, 10, 27, 18, 0): {'Open': 91.8, 'High': 92.5, 'Low': 91.95, 'Close': 92.28}, datetime.datetime(2022, 10, 27, 17, 0): {'Open': 92.23, 'High': 92.35, 'Low': 91.4938, 'Close': 91.8}, datetime.datetime(2022, 10, 27, 16, 0): {'Open': 91.8972, 'High': 93.67, 'Low': 90.38, 'Close': 92.23}, datetime.datetime(2022, 10, 27, 15, 0): {'Open': 92.3082, 'High': 92.43, 'Low': 91.15, 'Close': 91.8972}, datetime.datetime(2022, 10, 27, 14, 0): {'Open': 92.72, 'High': 92.31, 'Low': 91.8, 'Close': 92.3082}, datetime.datetime(2022, 10, 27, 13, 0): {'Open': 93.25, 'High': 93.38, 'Low': 92.1275, 'Close': 92.72}, datetime.datetime(2022, 10, 27, 12, 0): {'Open': 93.61, 'High': 93.33, 'Low': 92.54, 'Close': 93.25}, datetime.datetime(2022, 10, 27, 11, 0): {'Open': 92.4199, 'High': 94.0, 'Low': 93.04, 'Close': 93.61}, datetime.datetime(2022, 10, 27, 10, 0): {'Open': 94.6799, 'High': 94.25, 'Low': 93.275, 'Close': 92.4199}, datetime.datetime(2022, 10, 27, 9, 0): {'Open': 94.35, 'High': 95.43, 'Low': 92.205, 'Close': 94.6799}, datetime.datetime(2022, 10, 27, 8, 0): {'Open': 94.52, 'High': 94.86, 'Low': 94.08, 'Close': 94.35}, datetime.datetime(2022, 10, 27, 7, 0): {'Open': 94.63, 'High': 95.73, 'Low': 94.12, 'Close': 94.52}, datetime.datetime(2022, 10, 27, 6, 0): {'Open': 95.35, 'High': 94.81, 'Low': 94.38, 'Close': 94.63}, datetime.datetime(2022, 10, 27, 5, 0): {'Open': 95.35, 'High': 95.04, 'Low': 94.63, 'Close': 95.35}, datetime.datetime(2022, 10, 26, 20, 0): {'Open': 95.1, 'High': 95.43, 'Low': 94.93, 'Close': 95.35}, datetime.datetime(2022, 10, 26, 19, 0): {'Open': 94.5, 'High': 95.5, 'Low': 95.04, 'Close': 95.1}, datetime.datetime(2022, 10, 26, 18, 0): {'Open': 94.8302, 'High': 95.35, 'Low': 94.55, 'Close': 94.5}, datetime.datetime(2022, 10, 26, 17, 0): {'Open': 94.92, 'High': 94.93, 'Low': 94.35, 'Close': 94.8302}, datetime.datetime(2022, 10, 26, 16, 0): {'Open': 95.36, 'High': 94.93, 'Low': 94.43, 'Close': 94.92}, datetime.datetime(2022, 10, 26, 15, 0): {'Open': 96.15, 'High': 95.74, 'Low': 94.4, 'Close': 95.36}, datetime.datetime(2022, 10, 26, 14, 0): {'Open': 96.9, 'High': 96.95, 'Low': 94.96, 'Close': 96.15}, datetime.datetime(2022, 10, 26, 13, 0): {'Open': 97.8086, 'High': 96.81, 'Low': 96.095, 'Close': 96.9}, datetime.datetime(2022, 10, 26, 12, 0): {'Open': 97.155, 'High': 97.575, 'Low': 96.7, 'Close': 97.8086}, datetime.datetime(2022, 10, 26, 11, 0): {'Open': 96.525, 'High': 98.31, 'Low': 97.545, 'Close': 97.155}, datetime.datetime(2022, 10, 26, 10, 0): {'Open': 97.94, 'High': 97.945, 'Low': 96.47, 'Close': 96.525}, datetime.datetime(2022, 10, 26, 9, 0): {'Open': 98.08, 'High': 97.89, 'Low': 95.15, 'Close': 97.94}, datetime.datetime(2022, 10, 26, 8, 0): {'Open': 98.2, 'High': 98.23, 'Low': 97.15, 'Close': 98.08}, datetime.datetime(2022, 10, 26, 7, 0): {'Open': 98.0, 'High': 98.7, 'Low': 97.36, 'Close': 98.2}, datetime.datetime(2022, 10, 26, 6, 0): {'Open': 98.02, 'High': 98.5, 'Low': 97.9, 'Close': 98.0}, datetime.datetime(2022, 10, 26, 5, 0): {'Open': 97.6001, 'High': 98.4, 'Low': 97.55, 'Close': 98.02}, datetime.datetime(2022, 10, 25, 20, 0): {'Open': 97.66, 'High': 98.3, 'Low': 97.79, 'Close': 97.6001}, datetime.datetime(2022, 10, 25, 19, 0): {'Open': 97.35, 'High': 98.5, 'Low': 97.32, 'Close': 97.66}, datetime.datetime(2022, 10, 25, 18, 0): {'Open': 98.69, 'High': 97.77, 'Low': 97.39, 'Close': 97.35}, datetime.datetime(2022, 10, 25, 17, 0): {'Open': 104.56, 'High': 98.16, 'Low': 96.71, 'Close': 98.69}, datetime.datetime(2022, 10, 25, 16, 0): {'Open': 103.85, 'High': 104.48, 'Low': 97.7, 'Close': 104.56}, datetime.datetime(2022, 10, 25, 15, 0): {'Open': 103.41, 'High': 104.82, 'Low': 97.46, 'Close': 103.85}, datetime.datetime(2022, 10, 25, 14, 0): {'Open': 103.2, 'High': 104.39, 'Low': 103.475, 'Close': 103.41}, datetime.datetime(2022, 10, 25, 13, 0): {'Open': 103.815, 'High': 103.63, 'Low': 102.89, 'Close': 103.2}, datetime.datetime(2022, 10, 25, 12, 0): {'Open': 103.39, 'High': 103.955, 'Low': 102.79, 'Close': 103.815}, datetime.datetime(2022, 10, 25, 11, 0): {'Open': 103.63, 'High': 103.95, 'Low': 103.5, 'Close': 103.39}, datetime.datetime(2022, 10, 25, 10, 0): {'Open': 102.95, 'High': 103.99, 'Low': 103.11, 'Close': 103.63}, datetime.datetime(2022, 10, 25, 9, 0): {'Open': 102.74, 'High': 104.03, 'Low': 102.68, 'Close': 102.95}, datetime.datetime(2022, 10, 25, 8, 0): {'Open': 102.5, 'High': 103.33, 'Low': 102.65, 'Close': 102.74}, datetime.datetime(2022, 10, 25, 7, 0): {'Open': 102.36, 'High': 103.064, 'Low': 102.13, 'Close': 102.5}, datetime.datetime(2022, 10, 25, 6, 0): {'Open': 102.43, 'High': 102.82, 'Low': 102.24, 'Close': 102.36}, datetime.datetime(2022, 10, 25, 5, 0): {'Open': 102.9, 'High': 102.68, 'Low': 102.08, 'Close': 102.43}, datetime.datetime(2022, 10, 24, 20, 0): {'Open': 102.45, 'High': 102.97, 'Low': 102.07, 'Close': 102.9}, datetime.datetime(2022, 10, 24, 19, 0): {'Open': 102.2477, 'High': 102.9, 'Low': 102.45, 'Close': 102.45}, datetime.datetime(2022, 10, 24, 18, 0): {'Open': 102.16, 'High': 102.46, 'Low': 102.2, 'Close': 102.2477}, datetime.datetime(2022, 10, 24, 17, 0): {'Open': 102.51, 'High': 102.41, 'Low': 102.07, 'Close': 102.16}, datetime.datetime(2022, 10, 24, 16, 0): {'Open': 102.2, 'High': 102.73, 'Low': 101.81, 'Close': 102.51}, datetime.datetime(2022, 10, 24, 15, 0): {'Open': 101.63, 'High': 102.75, 'Low': 102.145, 'Close': 102.2}, datetime.datetime(2022, 10, 24, 14, 0): {'Open': 102.15, 'High': 102.245, 'Low': 101.61, 'Close': 101.63}, datetime.datetime(2022, 10, 24, 13, 0): {'Open': 101.74, 'High': 102.19, 'Low': 101.46, 'Close': 102.15}, datetime.datetime(2022, 10, 24, 12, 0): {'Open': 101.73, 'High': 102.325, 'Low': 101.59, 'Close': 101.74}, datetime.datetime(2022, 10, 24, 11, 0): {'Open': 101.29, 'High': 101.83, 'Low': 101.21, 'Close': 101.73}, datetime.datetime(2022, 10, 24, 10, 0): {'Open': 102.0, 'High': 101.86, 'Low': 99.98, 'Close': 101.29}, datetime.datetime(2022, 10, 24, 9, 0): {'Open': 102.0, 'High': 102.0, 'Low': 100.56, 'Close': 102.0}, datetime.datetime(2022, 10, 24, 8, 0): {'Open': 101.89, 'High': 102.51, 'Low': 100.878, 'Close': 102.0}, datetime.datetime(2022, 10, 24, 7, 0): {'Open': 101.47, 'High': 102.67, 'Low': 101.5, 'Close': 101.89}, datetime.datetime(2022, 10, 24, 6, 0): {'Open': 101.07, 'High': 101.99, 'Low': 101.14, 'Close': 101.47}, datetime.datetime(2022, 10, 24, 5, 0): {'Open': 101.22, 'High': 101.49, 'Low': 100.6, 'Close': 101.07}, datetime.datetime(2022, 10, 21, 20, 0): {'Open': 101.31, 'High': 102.0, 'Low': 100.6, 'Close': 101.22}, datetime.datetime(2022, 10, 21, 19, 0): {'Open': 101.2, 'High': 101.4, 'Low': 101.22, 'Close': 101.31}, datetime.datetime(2022, 10, 21, 18, 0): {'Open': 101.13, 'High': 101.4, 'Low': 101.21, 'Close': 101.2}, datetime.datetime(2022, 10, 21, 17, 0): {'Open': 101.11, 'High': 101.38, 'Low': 101.08, 'Close': 101.13}, datetime.datetime(2022, 10, 21, 16, 0): {'Open': 100.35, 'High': 101.3499, 'Low': 101.0, 'Close': 101.11}, datetime.datetime(2022, 10, 21, 15, 0): {'Open': 100.455, 'High': 101.31, 'Low': 100.311, 'Close': 100.35}, datetime.datetime(2022, 10, 21, 14, 0): {'Open': 99.75, 'High': 100.7197, 'Low': 100.115, 'Close': 100.455}, datetime.datetime(2022, 10, 21, 13, 0): {'Open': 99.74, 'High': 100.46, 'Low': 99.59, 'Close': 99.75}, datetime.datetime(2022, 10, 21, 12, 0): {'Open': 98.7499, 'High': 100.04, 'Low': 99.33, 'Close': 99.74}, datetime.datetime(2022, 10, 21, 11, 0): {'Open': 99.99, 'High': 99.74, 'Low': 98.27, 'Close': 98.7499}, datetime.datetime(2022, 10, 21, 10, 0): {'Open': 98.14, 'High': 100.25, 'Low': 98.69, 'Close': 99.99}, datetime.datetime(2022, 10, 21, 9, 0): {'Open': 98.07, 'High': 100.27, 'Low': 97.72, 'Close': 98.14}, datetime.datetime(2022, 10, 21, 8, 0): {'Open': 98.14, 'High': 99.721, 'Low': 97.65, 'Close': 98.07}, datetime.datetime(2022, 10, 21, 7, 0): {'Open': 98.3, 'High': 98.43, 'Low': 97.97, 'Close': 98.14}, datetime.datetime(2022, 10, 21, 6, 0): {'Open': 98.13, 'High': 98.26, 'Low': 98.01, 'Close': 98.3}, datetime.datetime(2022, 10, 21, 5, 0): {'Open': 98.09, 'High': 98.3, 'Low': 98.1, 'Close': 98.13}, datetime.datetime(2022, 10, 20, 20, 0): {'Open': 98.3, 'High': 98.35, 'Low': 98.11, 'Close': 98.09}, datetime.datetime(2022, 10, 20, 19, 0): {'Open': 98.37, 'High': 98.3, 'Low': 98.0, 'Close': 98.3}, datetime.datetime(2022, 10, 20, 18, 0): {'Open': 97.56, 'High': 98.35, 'Low': 97.87, 'Close': 98.37}, datetime.datetime(2022, 10, 20, 17, 0): {'Open': 99.97, 'High': 99.13, 'Low': 97.48, 'Close': 97.56}, datetime.datetime(2022, 10, 20, 16, 0): {'Open': 99.82, 'High': 100.95, 'Low': 96.98, 'Close': 99.97}, datetime.datetime(2022, 10, 20, 15, 0): {'Open': 100.05, 'High': 100.14, 'Low': 99.39, 'Close': 99.82}, datetime.datetime(2022, 10, 20, 14, 0): {'Open': 100.82, 'High': 100.09, 'Low': 99.605, 'Close': 100.05}, datetime.datetime(2022, 10, 20, 13, 0): {'Open': 101.69, 'High': 100.89, 'Low': 99.79, 'Close': 100.82}, datetime.datetime(2022, 10, 20, 12, 0): {'Open': 101.97, 'High': 101.73, 'Low': 100.655, 'Close': 101.69}, datetime.datetime(2022, 10, 20, 11, 0): {'Open': 100.8725, 'High': 102.01, 'Low': 101.13, 'Close': 101.97}, datetime.datetime(2022, 10, 20, 10, 0): {'Open': 99.41, 'High': 102.32, 'Low': 100.75, 'Close': 100.8725}, datetime.datetime(2022, 10, 20, 9, 0): {'Open': 100.21, 'High': 101.18, 'Low': 99.45, 'Close': 99.41}, datetime.datetime(2022, 10, 20, 8, 0): {'Open': 100.19, 'High': 100.74, 'Low': 98.9615, 'Close': 100.21}, datetime.datetime(2022, 10, 20, 7, 0): {'Open': 99.6, 'High': 100.39, 'Low': 99.86, 'Close': 100.19}, datetime.datetime(2022, 10, 20, 6, 0): {'Open': 99.39, 'High': 100.46, 'Low': 99.43, 'Close': 99.6}, datetime.datetime(2022, 10, 20, 5, 0): {'Open': 99.58, 'High': 99.6, 'Low': 98.93, 'Close': 99.39}, datetime.datetime(2022, 10, 19, 20, 0): {'Open': 99.57, 'High': 99.67, 'Low': 98.84, 'Close': 99.58}, datetime.datetime(2022, 10, 19, 19, 0): {'Open': 99.87, 'High': 99.97, 'Low': 99.5, 'Close': 99.57}, datetime.datetime(2022, 10, 19, 18, 0): {'Open': 99.63, 'High': 99.96, 'Low': 99.71, 'Close': 99.87}, datetime.datetime(2022, 10, 19, 17, 0): {'Open': 99.705, 'High': 100.1, 'Low': 99.63, 'Close': 99.63}, datetime.datetime(2022, 10, 19, 16, 0): {'Open': 99.315, 'High': 100.19, 'Low': 99.27, 'Close': 99.705}, datetime.datetime(2022, 10, 19, 15, 0): {'Open': 99.265, 'High': 99.76, 'Low': 99.14, 'Close': 99.315}, datetime.datetime(2022, 10, 19, 14, 0): {'Open': 99.63, 'High': 99.6862, 'Low': 98.97, 'Close': 99.265}, datetime.datetime(2022, 10, 19, 13, 0): {'Open': 100.6159, 'High': 100.58, 'Low': 98.9201, 'Close': 99.63}, datetime.datetime(2022, 10, 19, 12, 0): {'Open': 100.33, 'High': 100.71, 'Low': 99.795, 'Close': 100.6159}, datetime.datetime(2022, 10, 19, 11, 0): {'Open': 99.61, 'High': 100.805, 'Low': 99.98, 'Close': 100.33}, datetime.datetime(2022, 10, 19, 10, 0): {'Open': 100.81, 'High': 101.0183, 'Low': 99.31, 'Close': 99.61}, datetime.datetime(2022, 10, 19, 9, 0): {'Open': 100.76, 'High': 100.92, 'Low': 100.3, 'Close': 100.81}, datetime.datetime(2022, 10, 19, 8, 0): {'Open': 101.3, 'High': 101.58, 'Low': 100.26, 'Close': 100.76}, datetime.datetime(2022, 10, 19, 7, 0): {'Open': 101.78, 'High': 101.6, 'Low': 100.67, 'Close': 101.3}, datetime.datetime(2022, 10, 19, 6, 0): {'Open': 101.4, 'High': 101.8, 'Low': 101.32, 'Close': 101.78}, datetime.datetime(2022, 10, 19, 5, 0): {'Open': 102.44, 'High': 101.61, 'Low': 100.78, 'Close': 101.4}, datetime.datetime(2022, 10, 18, 20, 0): {'Open': 102.24, 'High': 102.97, 'Low': 101.12, 'Close': 102.44}, datetime.datetime(2022, 10, 18, 19, 0): {'Open': 102.14, 'High': 103.0, 'Low': 101.81, 'Close': 102.24}, datetime.datetime(2022, 10, 18, 18, 0): {'Open': 102.192, 'High': 102.37, 'Low': 101.95, 'Close': 102.14}, datetime.datetime(2022, 10, 18, 17, 0): {'Open': 100.8, 'High': 102.24, 'Low': 100.77, 'Close': 102.192}, datetime.datetime(2022, 10, 18, 16, 0): {'Open': 100.385, 'High': 101.6, 'Low': 100.05, 'Close': 100.8}, datetime.datetime(2022, 10, 18, 15, 0): {'Open': 101.09, 'High': 101.04, 'Low': 99.97, 'Close': 100.385}, datetime.datetime(2022, 10, 18, 14, 0): {'Open': 100.93, 'High': 101.25, 'Low': 100.53, 'Close': 101.09}, datetime.datetime(2022, 10, 18, 13, 0): {'Open': 100.785, 'High': 101.36, 'Low': 100.36, 'Close': 100.93}, datetime.datetime(2022, 10, 18, 12, 0): {'Open': 101.51, 'High': 101.17, 'Low': 100.12, 'Close': 100.785}, datetime.datetime(2022, 10, 18, 11, 0): {'Open': 101.4, 'High': 103.0, 'Low': 100.375, 'Close': 101.51}, datetime.datetime(2022, 10, 18, 10, 0): {'Open': 102.85, 'High': 103.47, 'Low': 101.095, 'Close': 101.4}, datetime.datetime(2022, 10, 18, 9, 0): {'Open': 102.4, 'High': 102.9199, 'Low': 102.4512, 'Close': 102.85}, datetime.datetime(2022, 10, 18, 8, 0): {'Open': 101.84, 'High': 102.88, 'Low': 99.721, 'Close': 102.4}, datetime.datetime(2022, 10, 18, 7, 0): {'Open': 101.8, 'High': 102.4, 'Low': 101.77, 'Close': 101.84}, datetime.datetime(2022, 10, 18, 6, 0): {'Open': 101.5, 'High': 101.98, 'Low': 101.46, 'Close': 101.8}, datetime.datetime(2022, 10, 18, 5, 0): {'Open': 101.3, 'High': 102.23, 'Low': 101.32, 'Close': 101.5}, datetime.datetime(2022, 10, 17, 20, 0): {'Open': 100.98, 'High': 101.99, 'Low': 100.9899, 'Close': 101.3}, datetime.datetime(2022, 10, 17, 19, 0): {'Open': 100.1946, 'High': 101.0, 'Low': 100.66, 'Close': 100.98}, datetime.datetime(2022, 10, 17, 18, 0): {'Open': 100.14, 'High': 100.85, 'Low': 100.1515, 'Close': 100.1946}, datetime.datetime(2022, 10, 17, 17, 0): {'Open': 100.02, 'High': 100.3, 'Low': 99.97, 'Close': 100.14}, datetime.datetime(2022, 10, 17, 16, 0): {'Open': 100.279, 'High': 100.32, 'Low': 99.693, 'Close': 100.02}, datetime.datetime(2022, 10, 17, 15, 0): {'Open': 100.725, 'High': 100.61, 'Low': 100.03, 'Close': 100.279}, datetime.datetime(2022, 10, 17, 14, 0): {'Open': 100.14, 'High': 100.89, 'Low': 100.09, 'Close': 100.725}, datetime.datetime(2022, 10, 17, 13, 0): {'Open': 100.13, 'High': 100.31, 'Low': 99.645, 'Close': 100.14}, datetime.datetime(2022, 10, 17, 12, 0): {'Open': 100.115, 'High': 100.33, 'Low': 99.655, 'Close': 100.13}, datetime.datetime(2022, 10, 17, 11, 0): {'Open': 100.21, 'High': 100.63, 'Low': 99.84, 'Close': 100.115}, datetime.datetime(2022, 10, 17, 10, 0): {'Open': 98.5, 'High': 100.93, 'Low': 98.53, 'Close': 100.21}, datetime.datetime(2022, 10, 17, 9, 0): {'Open': 98.09, 'High': 98.75, 'Low': 97.82, 'Close': 98.5}, datetime.datetime(2022, 10, 17, 8, 0): {'Open': 98.02, 'High': 98.24, 'Low': 96.319, 'Close': 98.09}, datetime.datetime(2022, 10, 17, 7, 0): {'Open': 97.79, 'High': 98.15, 'Low': 97.72, 'Close': 98.02}, datetime.datetime(2022, 10, 17, 6, 0): {'Open': 97.4, 'High': 98.29, 'Low': 97.58, 'Close': 97.79}, datetime.datetime(2022, 10, 17, 5, 0): {'Open': 96.3, 'High': 97.7, 'Low': 97.37, 'Close': 97.4}, datetime.datetime(2022, 10, 14, 20, 0): {'Open': 96.34, 'High': 96.48, 'Low': 96.3, 'Close': 96.3}, datetime.datetime(2022, 10, 14, 19, 0): {'Open': 96.4215, 'High': 96.52, 'Low': 96.34, 'Close': 96.34}, datetime.datetime(2022, 10, 14, 18, 0): {'Open': 96.61, 'High': 96.5, 'Low': 96.35, 'Close': 96.4215}, datetime.datetime(2022, 10, 14, 17, 0): {'Open': 96.58, 'High': 96.84, 'Low': 96.37, 'Close': 96.61}, datetime.datetime(2022, 10, 14, 16, 0): {'Open': 96.975, 'High': 97.19, 'Low': 96.37, 'Close': 96.58}, datetime.datetime(2022, 10, 14, 15, 0): {'Open': 97.43, 'High': 97.44, 'Low': 96.64, 'Close': 96.975}, datetime.datetime(2022, 10, 14, 14, 0): {'Open': 97.0612, 'High': 97.545, 'Low': 96.94, 'Close': 97.43}, datetime.datetime(2022, 10, 14, 13, 0): {'Open': 97.16, 'High': 97.6, 'Low': 96.655, 'Close': 97.0612}, datetime.datetime(2022, 10, 14, 12, 0): {'Open': 97.72, 'High': 98.22, 'Low': 97.07, 'Close': 97.16}, datetime.datetime(2022, 10, 14, 11, 0): {'Open': 99.14, 'High': 99.13, 'Low': 97.13, 'Close': 97.72}, datetime.datetime(2022, 10, 14, 10, 0): {'Open': 100.53, 'High': 100.69, 'Low': 98.7401, 'Close': 99.14}, datetime.datetime(2022, 10, 14, 9, 0): {'Open': 98.41, 'High': 101.14, 'Low': 98.41, 'Close': 100.53}, datetime.datetime(2022, 10, 14, 8, 0): {'Open': 99.07, 'High': 99.35, 'Low': 98.36, 'Close': 98.41}, datetime.datetime(2022, 10, 14, 7, 0): {'Open': 98.59, 'High': 99.79, 'Low': 98.42, 'Close': 99.07}, datetime.datetime(2022, 10, 14, 6, 0): {'Open': 98.89, 'High': 98.59, 'Low': 98.24, 'Close': 98.59}, datetime.datetime(2022, 10, 13, 20, 0): {'Open': 98.95, 'High': 99.01, 'Low': 98.28, 'Close': 98.89}, datetime.datetime(2022, 10, 13, 19, 0): {'Open': 98.85, 'High': 98.96, 'Low': 98.75, 'Close': 98.95}, datetime.datetime(2022, 10, 13, 18, 0): {'Open': 98.87, 'High': 99.06, 'Low': 98.8, 'Close': 98.85}, datetime.datetime(2022, 10, 13, 17, 0): {'Open': 99.09, 'High': 99.06, 'Low': 98.84, 'Close': 98.87}, datetime.datetime(2022, 10, 13, 16, 0): {'Open': 99.37, 'High': 99.6, 'Low': 98.8201, 'Close': 99.09}, datetime.datetime(2022, 10, 13, 15, 0): {'Open': 99.0299, 'High': 99.775, 'Low': 98.61, 'Close': 99.37}, datetime.datetime(2022, 10, 13, 14, 0): {'Open': 98.08, 'High': 99.28, 'Low': 98.54, 'Close': 99.0299}, datetime.datetime(2022, 10, 13, 13, 0): {'Open': 98.64, 'High': 99.1, 'Low': 97.83, 'Close': 98.08}, datetime.datetime(2022, 10, 13, 12, 0): {'Open': 95.9985, 'High': 99.69, 'Low': 97.61, 'Close': 98.64}, datetime.datetime(2022, 10, 13, 11, 0): {'Open': 95.655, 'High': 98.88, 'Low': 95.61, 'Close': 95.9985}, datetime.datetime(2022, 10, 13, 10, 0): {'Open': 94.76, 'High': 96.14, 'Low': 94.3836, 'Close': 95.655}, datetime.datetime(2022, 10, 13, 9, 0): {'Open': 98.04, 'High': 98.3, 'Low': 94.0, 'Close': 94.76}, datetime.datetime(2022, 10, 13, 8, 0): {'Open': 97.79, 'High': 98.88, 'Low': 97.317, 'Close': 98.04}, datetime.datetime(2022, 10, 13, 7, 0): {'Open': 97.79, 'High': 97.86, 'Low': 97.68, 'Close': 97.79}, datetime.datetime(2022, 10, 13, 6, 0): {'Open': 97.56, 'High': 97.86, 'Low': 97.65, 'Close': 97.79}, datetime.datetime(2022, 10, 13, 5, 0): {'Open': 97.8, 'High': 97.63, 'Low': 97.35, 'Close': 97.56}, datetime.datetime(2022, 10, 12, 20, 0): {'Open': 97.6, 'High': 97.82, 'Low': 97.25, 'Close': 97.8}, datetime.datetime(2022, 10, 12, 19, 0): {'Open': 97.68, 'High': 97.78, 'Low': 97.6, 'Close': 97.6}, datetime.datetime(2022, 10, 12, 17, 0): {'Open': 97.51, 'High': 97.68, 'Low': 97.56, 'Close': 97.68}, datetime.datetime(2022, 10, 12, 16, 0): {'Open': 97.635, 'High': 97.88, 'Low': 97.46, 'Close': 97.51}, datetime.datetime(2022, 10, 12, 15, 0): {'Open': 97.44, 'High': 97.94, 'Low': 97.4, 'Close': 97.635}, datetime.datetime(2022, 10, 12, 14, 0): {'Open': 97.48, 'High': 98.06, 'Low': 97.15, 'Close': 97.44}, datetime.datetime(2022, 10, 12, 13, 0): {'Open': 98.15, 'High': 97.59, 'Low': 97.105, 'Close': 97.48}, datetime.datetime(2022, 10, 12, 12, 0): {'Open': 97.79, 'High': 98.21, 'Low': 96.96, 'Close': 98.15}, datetime.datetime(2022, 10, 12, 11, 0): {'Open': 98.36, 'High': 98.195, 'Low': 97.495, 'Close': 97.79}, datetime.datetime(2022, 10, 12, 10, 0): {'Open': 97.45, 'High': 98.75, 'Low': 97.62, 'Close': 98.36}, datetime.datetime(2022, 10, 12, 9, 0): {'Open': 98.0, 'High': 98.26, 'Low': 96.735, 'Close': 97.45}, datetime.datetime(2022, 10, 12, 8, 0): {'Open': 97.9, 'High': 98.14, 'Low': 96.63, 'Close': 98.0}, datetime.datetime(2022, 10, 12, 7, 0): {'Open': 97.7, 'High': 98.11, 'Low': 97.83, 'Close': 97.9}, datetime.datetime(2022, 10, 12, 5, 0): {'Open': 97.3, 'High': 98.2, 'Low': 97.8, 'Close': 97.7}, datetime.datetime(2022, 10, 11, 20, 0): {'Open': 97.31, 'High': 98.4, 'Low': 97.66, 'Close': 97.3}, datetime.datetime(2022, 10, 11, 19, 0): {'Open': 97.21, 'High': 98.0, 'Low': 97.06, 'Close': 97.31}, datetime.datetime(2022, 10, 11, 18, 0): {'Open': 97.47, 'High': 97.38, 'Low': 96.85, 'Close': 97.21}, datetime.datetime(2022, 10, 11, 17, 0): {'Open': 97.14, 'High': 97.37, 'Low': 97.21, 'Close': 97.47}, datetime.datetime(2022, 10, 11, 16, 0): {'Open': 96.97, 'High': 97.47, 'Low': 96.93, 'Close': 97.14}, datetime.datetime(2022, 10, 11, 15, 0): {'Open': 98.65, 'High': 97.35, 'Low': 96.725, 'Close': 96.97}, datetime.datetime(2022, 10, 11, 14, 0): {'Open': 98.7464, 'High': 98.5, 'Low': 96.31, 'Close': 98.65}, datetime.datetime(2022, 10, 11, 13, 0): {'Open': 98.47, 'High': 98.73, 'Low': 98.05, 'Close': 98.7464}, datetime.datetime(2022, 10, 11, 12, 0): {'Open': 97.3, 'High': 99.245, 'Low': 98.29, 'Close': 98.47}, datetime.datetime(2022, 10, 11, 11, 0): {'Open': 96.67, 'High': 98.77, 'Low': 97.73, 'Close': 97.3}, datetime.datetime(2022, 10, 11, 10, 0): {'Open': 97.5, 'High': 98.05, 'Low': 96.91, 'Close': 96.67}, datetime.datetime(2022, 10, 11, 9, 0): {'Open': 97.35, 'High': 98.15, 'Low': 96.59, 'Close': 97.5}, datetime.datetime(2022, 10, 11, 8, 0): {'Open': 97.0, 'High': 97.96, 'Low': 97.05, 'Close': 97.35}, datetime.datetime(2022, 10, 11, 7, 0): {'Open': 96.62, 'High': 97.93, 'Low': 97.06, 'Close': 97.0}, datetime.datetime(2022, 10, 11, 6, 0): {'Open': 96.72, 'High': 97.29, 'Low': 96.8, 'Close': 96.62}, datetime.datetime(2022, 10, 11, 5, 0): {'Open': 98.05, 'High': 96.94, 'Low': 96.61, 'Close': 96.72}, datetime.datetime(2022, 10, 10, 20, 0): {'Open': 97.97, 'High': 97.24, 'Low': 96.69, 'Close': 98.05}, datetime.datetime(2022, 10, 10, 19, 0): {'Open': 97.86, 'High': 98.28, 'Low': 97.01, 'Close': 97.97}, datetime.datetime(2022, 10, 10, 18, 0): {'Open': 97.85, 'High': 98.37, 'Low': 97.85, 'Close': 97.86}, datetime.datetime(2022, 10, 10, 16, 0): {'Open': 98.2, 'High': 98.0, 'Low': 97.83, 'Close': 97.85}, datetime.datetime(2022, 10, 10, 15, 0): {'Open': 98.39, 'High': 98.03, 'Low': 97.76, 'Close': 98.2}, datetime.datetime(2022, 10, 10, 14, 0): {'Open': 97.255, 'High': 98.54, 'Low': 97.51, 'Close': 98.39}, datetime.datetime(2022, 10, 10, 13, 0): {'Open': 98.03, 'High': 98.59, 'Low': 98.05, 'Close': 97.255}, datetime.datetime(2022, 10, 10, 12, 0): {'Open': 97.61, 'High': 98.71, 'Low': 97.27, 'Close': 98.03}, datetime.datetime(2022, 10, 10, 11, 0): {'Open': 97.7301, 'High': 98.0, 'Low': 97.01, 'Close': 97.61}, datetime.datetime(2022, 10, 10, 10, 0): {'Open': 99.11, 'High': 98.25, 'Low': 97.6001, 'Close': 97.7301}, datetime.datetime(2022, 10, 10, 9, 0): {'Open': 98.15, 'High': 98.53, 'Low': 97.3647, 'Close': 99.11}, datetime.datetime(2022, 10, 10, 7, 0): {'Open': 98.66, 'High': 99.21, 'Low': 97.58, 'Close': 98.15}, datetime.datetime(2022, 10, 10, 6, 0): {'Open': 98.0, 'High': 99.27, 'Low': 98.29, 'Close': 98.66}, datetime.datetime(2022, 10, 10, 5, 0): {'Open': 98.72, 'High': 98.56, 'Low': 98.26, 'Close': 98.0}, datetime.datetime(2022, 10, 7, 20, 0): {'Open': 98.69, 'High': 98.66, 'Low': 98.11, 'Close': 98.72}, datetime.datetime(2022, 10, 7, 19, 0): {'Open': 98.75, 'High': 98.21, 'Low': 97.8, 'Close': 98.69}, datetime.datetime(2022, 10, 7, 18, 0): {'Open': 98.78, 'High': 98.72, 'Low': 97.92, 'Close': 98.75}, datetime.datetime(2022, 10, 7, 17, 0): {'Open': 98.76, 'High': 98.75, 'Low': 98.66, 'Close': 98.78}, datetime.datetime(2022, 10, 7, 16, 0): {'Open': 98.87, 'High': 98.8, 'Low': 98.71, 'Close': 98.76}, datetime.datetime(2022, 10, 7, 15, 0): {'Open': 98.545, 'High': 98.8, 'Low': 98.68, 'Close': 98.87}, datetime.datetime(2022, 10, 7, 14, 0): {'Open': 98.93, 'High': 98.96, 'Low': 98.295, 'Close': 98.545}, datetime.datetime(2022, 10, 7, 13, 0): {'Open': 99.33, 'High': 99.16, 'Low': 98.34, 'Close': 98.93}, datetime.datetime(2022, 10, 7, 12, 0): {'Open': 99.805, 'High': 98.96, 'Low': 98.41, 'Close': 99.33}, datetime.datetime(2022, 10, 7, 11, 0): {'Open': 99.11, 'High': 99.115, 'Low': 98.6686, 'Close': 99.805}, datetime.datetime(2022, 10, 7, 10, 0): {'Open': 99.93, 'High': 99.55, 'Low': 98.91, 'Close': 99.11}, datetime.datetime(2022, 10, 7, 9, 0): {'Open': 101.11, 'High': 100.12, 'Low': 99.208, 'Close': 99.93}, datetime.datetime(2022, 10, 7, 8, 0): {'Open': 101.01, 'High': 100.53, 'Low': 98.94, 'Close': 101.11}, datetime.datetime(2022, 10, 7, 7, 0): {'Open': 101.1, 'High': 101.73, 'Low': 99.3976, 'Close': 101.01}, datetime.datetime(2022, 10, 7, 5, 0): {'Open': 101.02, 'High': 101.67, 'Low': 101.09, 'Close': 101.1}, datetime.datetime(2022, 10, 6, 20, 0): {'Open': 101.0424, 'High': 101.33, 'Low': 100.93, 'Close': 101.02}, datetime.datetime(2022, 10, 6, 18, 0): {'Open': 101.21, 'High': 101.37, 'Low': 100.93, 'Close': 101.0424}, datetime.datetime(2022, 10, 6, 17, 0): {'Open': 101.43, 'High': 101.22, 'Low': 100.8, 'Close': 101.21}, datetime.datetime(2022, 10, 6, 16, 0): {'Open': 101.54, 'High': 101.42, 'Low': 100.31, 'Close': 101.43}, datetime.datetime(2022, 10, 6, 15, 0): {'Open': 102.16, 'High': 101.39, 'Low': 101.05, 'Close': 101.54}, datetime.datetime(2022, 10, 6, 14, 0): {'Open': 102.175, 'High': 101.38, 'Low': 101.02, 'Close': 102.16}, datetime.datetime(2022, 10, 6, 13, 0): {'Open': 101.9564, 'High': 101.49, 'Low': 101.11, 'Close': 102.175}, datetime.datetime(2022, 10, 6, 12, 0): {'Open': 102.415, 'High': 101.82, 'Low': 101.23, 'Close': 101.9564}, datetime.datetime(2022, 10, 6, 11, 0): {'Open': 101.45, 'High': 102.18, 'Low': 101.3, 'Close': 102.415}, datetime.datetime(2022, 10, 6, 10, 0): {'Open': 101.01, 'High': 102.265, 'Low': 101.79, 'Close': 101.45}, datetime.datetime(2022, 10, 6, 9, 0): {'Open': 100.8, 'High': 102.36, 'Low': 101.69, 'Close': 101.01}, datetime.datetime(2022, 10, 6, 8, 0): {'Open': 100.45, 'High': 102.67, 'Low': 101.87, 'Close': 100.8}, datetime.datetime(2022, 10, 6, 7, 0): {'Open': 100.6, 'High': 102.42, 'Low': 100.84, 'Close': 100.45}, datetime.datetime(2022, 10, 6, 6, 0): {'Open': 100.64, 'High': 102.9254, 'Low': 100.43, 'Close': 100.6}, datetime.datetime(2022, 10, 6, 5, 0): {'Open': 101.91, 'High': 101.6, 'Low': 100.5, 'Close': 100.64}, datetime.datetime(2022, 10, 5, 20, 0): {'Open': 101.57, 'High': 100.8, 'Low': 100.48, 'Close': 101.91}, datetime.datetime(2022, 10, 5, 19, 0): {'Open': 101.1149, 'High': 100.63, 'Low': 100.42, 'Close': 101.57}, datetime.datetime(2022, 10, 5, 18, 0): {'Open': 101.18, 'High': 100.92, 'Low': 100.6, 'Close': 101.1149}, datetime.datetime(2022, 10, 5, 17, 0): {'Open': 101.45, 'High': 101.42, 'Low': 100.56, 'Close': 101.18}, datetime.datetime(2022, 10, 5, 16, 0): {'Open': 101.241, 'High': 102.16, 'Low': 101.5, 'Close': 101.45}, datetime.datetime(2022, 10, 5, 15, 0): {'Open': 100.54, 'High': 101.58, 'Low': 101.11, 'Close': 101.241}, datetime.datetime(2022, 10, 5, 14, 0): {'Open': 100.35, 'High': 101.2838, 'Low': 101.11, 'Close': 100.54}, datetime.datetime(2022, 10, 5, 13, 0): {'Open': 99.59, 'High': 101.6, 'Low': 100.4267, 'Close': 100.35}, datetime.datetime(2022, 10, 5, 12, 0): {'Open': 98.93, 'High': 101.93, 'Low': 101.2, 'Close': 99.59}, datetime.datetime(2022, 10, 5, 11, 0): {'Open': 99.79, 'High': 101.28, 'Low': 100.48, 'Close': 98.93}, datetime.datetime(2022, 10, 5, 10, 0): {'Open': 100.2403, 'High': 101.005, 'Low': 100.307, 'Close': 99.79}, datetime.datetime(2022, 10, 5, 9, 0): {'Open': 100.55, 'High': 100.598, 'Low': 99.315, 'Close': 100.2403}, datetime.datetime(2022, 10, 5, 8, 0): {'Open': 100.84, 'High': 99.61, 'Low': 98.89, 'Close': 100.55}, datetime.datetime(2022, 10, 5, 7, 0): {'Open': 100.34, 'High': 99.79, 'Low': 98.8, 'Close': 100.84}, datetime.datetime(2022, 10, 5, 6, 0): {'Open': 100.7, 'High': 100.39, 'Low': 99.45, 'Close': 100.34}, datetime.datetime(2022, 10, 5, 5, 0): {'Open': 101.25, 'High': 101.386, 'Low': 100.22, 'Close': 100.7}, datetime.datetime(2022, 10, 4, 20, 0): {'Open': 101.48, 'High': 100.81, 'Low': 100.48, 'Close': 101.25}, datetime.datetime(2022, 10, 4, 19, 0): {'Open': 101.7, 'High': 100.84, 'Low': 100.3, 'Close': 101.48}, datetime.datetime(2022, 10, 4, 18, 0): {'Open': 101.64, 'High': 100.7, 'Low': 100.35, 'Close': 101.7}, datetime.datetime(2022, 10, 4, 17, 0): {'Open': 101.64, 'High': 101.5, 'Low': 100.25, 'Close': 101.64}, datetime.datetime(2022, 10, 4, 16, 0): {'Open': 101.695, 'High': 101.64, 'Low': 101.45, 'Close': 101.64}, datetime.datetime(2022, 10, 4, 15, 0): {'Open': 101.36, 'High': 101.72, 'Low': 101.56, 'Close': 101.695}, datetime.datetime(2022, 10, 4, 14, 0): {'Open': 101.195, 'High': 101.64, 'Low': 101.51, 'Close': 101.36}, datetime.datetime(2022, 10, 4, 13, 0): {'Open': 101.303, 'High': 101.75, 'Low': 101.18, 'Close': 101.195}, datetime.datetime(2022, 10, 4, 12, 0): {'Open': 101.7946, 'High': 101.84, 'Low': 101.1, 'Close': 101.303}, datetime.datetime(2022, 10, 4, 11, 0): {'Open': 101.265, 'High': 101.485, 'Low': 100.95, 'Close': 101.7946}, datetime.datetime(2022, 10, 4, 10, 0): {'Open': 100.42, 'High': 101.6479, 'Low': 100.63, 'Close': 101.265}, datetime.datetime(2022, 10, 4, 9, 0): {'Open': 100.35, 'High': 101.72, 'Low': 100.98, 'Close': 100.42}, datetime.datetime(2022, 10, 4, 8, 0): {'Open': 100.45, 'High': 101.8, 'Low': 101.23, 'Close': 100.35}, datetime.datetime(2022, 10, 4, 7, 0): {'Open': 100.55, 'High': 101.635, 'Low': 100.38, 'Close': 100.45}, datetime.datetime(2022, 10, 4, 6, 0): {'Open': 100.18, 'High': 100.43, 'Low': 100.0, 'Close': 100.55}, datetime.datetime(2022, 10, 4, 5, 0): {'Open': 99.18, 'High': 100.5, 'Low': 98.394, 'Close': 100.18}, datetime.datetime(2022, 10, 3, 20, 0): {'Open': 98.64, 'High': 100.68, 'Low': 100.06, 'Close': 99.18}, datetime.datetime(2022, 10, 3, 19, 0): {'Open': 98.71, 'High': 100.68, 'Low': 99.96, 'Close': 98.64}, datetime.datetime(2022, 10, 3, 18, 0): {'Open': 98.64, 'High': 100.34, 'Low': 99.9, 'Close': 98.71}, datetime.datetime(2022, 10, 3, 17, 0): {'Open': 98.62, 'High': 100.39, 'Low': 98.91, 'Close': 98.64}, datetime.datetime(2022, 10, 3, 16, 0): {'Open': 99.01, 'High': 98.85, 'Low': 98.5, 'Close': 98.62}, datetime.datetime(2022, 10, 3, 15, 0): {'Open': 98.6, 'High': 98.9, 'Low': 98.65, 'Close': 99.01}, datetime.datetime(2022, 10, 3, 14, 0): {'Open': 98.1853, 'High': 98.81, 'Low': 98.64, 'Close': 98.6}, datetime.datetime(2022, 10, 3, 13, 0): {'Open': 97.8678, 'High': 99.2872, 'Low': 98.425, 'Close': 98.1853}, datetime.datetime(2022, 10, 3, 12, 0): {'Open': 97.9899, 'High': 99.18, 'Low': 98.65, 'Close': 97.8678}, datetime.datetime(2022, 10, 3, 11, 0): {'Open': 97.02, 'High': 98.75, 'Low': 98.22, 'Close': 97.9899}, datetime.datetime(2022, 10, 3, 10, 0): {'Open': 96.75, 'High': 98.39, 'Low': 97.865, 'Close': 97.02}, datetime.datetime(2022, 10, 3, 9, 0): {'Open': 96.25, 'High': 98.365, 'Low': 97.63, 'Close': 96.75}, datetime.datetime(2022, 10, 3, 8, 0): {'Open': 95.96, 'High': 98.32, 'Low': 97.13, 'Close': 96.25}, datetime.datetime(2022, 10, 3, 7, 0): {'Open': 95.41, 'High': 97.78, 'Low': 96.36, 'Close': 95.96}, datetime.datetime(2022, 10, 3, 6, 0): {'Open': 95.3, 'High': 96.98, 'Low': 96.03, 'Close': 95.41}, datetime.datetime(2022, 10, 3, 5, 0): {'Open': 95.81, 'High': 96.54, 'Low': 95.1615, 'Close': 95.3}, datetime.datetime(2022, 9, 30, 20, 0): {'Open': 95.72, 'High': 96.12, 'Low': 95.41, 'Close': 95.81}, datetime.datetime(2022, 9, 30, 19, 0): {'Open': 95.79, 'High': 95.44, 'Low': 95.12, 'Close': 95.72}, datetime.datetime(2022, 9, 30, 18, 0): {'Open': 95.84, 'High': 98.4, 'Low': 95.12, 'Close': 95.79}, datetime.datetime(2022, 9, 30, 17, 0): {'Open': 95.68, 'High': 95.84, 'Low': 95.67, 'Close': 95.84}, datetime.datetime(2022, 9, 30, 16, 0): {'Open': 96.325, 'High': 95.8, 'Low': 95.7, 'Close': 95.68}, datetime.datetime(2022, 9, 30, 15, 0): {'Open': 96.85, 'High': 95.86, 'Low': 95.68, 'Close': 96.325}, datetime.datetime(2022, 9, 30, 14, 0): {'Open': 97.44, 'High': 96.31, 'Low': 95.56, 'Close': 96.85}, datetime.datetime(2022, 9, 30, 13, 0): {'Open': 97.58, 'High': 96.73, 'Low': 95.56, 'Close': 97.44}, datetime.datetime(2022, 9, 30, 12, 0): {'Open': 98.16, 'High': 97.095, 'Low': 96.28, 'Close': 97.58}, datetime.datetime(2022, 9, 30, 11, 0): {'Open': 97.36, 'High': 97.4999, 'Low': 96.81, 'Close': 98.16}, datetime.datetime(2022, 9, 30, 10, 0): {'Open': 97.6339, 'High': 97.77, 'Low': 97.215, 'Close': 97.36}, datetime.datetime(2022, 9, 30, 9, 0): {'Open': 97.63, 'High': 98.9, 'Low': 97.5367, 'Close': 97.6339}, datetime.datetime(2022, 9, 30, 8, 0): {'Open': 98.01, 'High': 98.17, 'Low': 97.04, 'Close': 97.63}, datetime.datetime(2022, 9, 30, 7, 0): {'Open': 97.66, 'High': 97.91, 'Low': 96.6832, 'Close': 98.01}, datetime.datetime(2022, 9, 30, 6, 0): {'Open': 98.41, 'High': 98.2912, 'Low': 96.91, 'Close': 97.66}, datetime.datetime(2022, 9, 30, 5, 0): {'Open': 97.87, 'High': 98.0, 'Low': 97.46, 'Close': 98.41}, datetime.datetime(2022, 9, 29, 20, 0): {'Open': 97.55, 'High': 98.29, 'Low': 97.8, 'Close': 97.87}, datetime.datetime(2022, 9, 29, 19, 0): {'Open': 97.3986, 'High': 98.45, 'Low': 97.66, 'Close': 97.55}, datetime.datetime(2022, 9, 29, 18, 0): {'Open': 97.45, 'High': 98.79, 'Low': 97.63, 'Close': 97.3986}, datetime.datetime(2022, 9, 29, 17, 0): {'Open': 97.43, 'High': 97.78, 'Low': 97.52, 'Close': 97.45}, datetime.datetime(2022, 9, 29, 16, 0): {'Open': 96.17, 'High': 97.77, 'Low': 97.25, 'Close': 97.43}, datetime.datetime(2022, 9, 29, 15, 0): {'Open': 96.1718, 'High': 97.65, 'Low': 97.31, 'Close': 96.17}, datetime.datetime(2022, 9, 29, 14, 0): {'Open': 96.34, 'High': 97.8, 'Low': 96.6, 'Close': 96.1718}, datetime.datetime(2022, 9, 29, 13, 0): {'Open': 97.14, 'High': 96.86, 'Low': 96.13, 'Close': 96.34}, datetime.datetime(2022, 9, 29, 12, 0): {'Open': 96.8207, 'High': 96.7, 'Low': 95.96, 'Close': 97.14}, datetime.datetime(2022, 9, 29, 11, 0): {'Open': 97.3101, 'High': 96.655, 'Low': 96.25, 'Close': 96.8207}, datetime.datetime(2022, 9, 29, 10, 0): {'Open': 98.82, 'High': 97.29, 'Low': 96.55, 'Close': 97.3101}, datetime.datetime(2022, 9, 29, 9, 0): {'Open': 99.02, 'High': 97.17, 'Low': 96.2, 'Close': 98.82}, datetime.datetime(2022, 9, 29, 8, 0): {'Open': 98.9, 'High': 98.64, 'Low': 96.28, 'Close': 99.02}, datetime.datetime(2022, 9, 29, 7, 0): {'Open': 99.0, 'High': 99.25, 'Low': 98.25, 'Close': 98.9}, datetime.datetime(2022, 9, 29, 6, 0): {'Open': 99.94, 'High': 99.8, 'Low': 98.82, 'Close': 99.0}, datetime.datetime(2022, 9, 28, 20, 0): {'Open': 99.7, 'High': 99.14, 'Low': 98.83, 'Close': 99.94}, datetime.datetime(2022, 9, 28, 19, 0): {'Open': 100.0, 'High': 99.25, 'Low': 98.87, 'Close': 99.7}, datetime.datetime(2022, 9, 28, 18, 0): {'Open': 99.96, 'High': 99.08, 'Low': 98.55, 'Close': 100.0}, datetime.datetime(2022, 9, 28, 17, 0): {'Open': 100.03, 'High': 99.94, 'Low': 98.59, 'Close': 99.96}, datetime.datetime(2022, 9, 28, 16, 0): {'Open': 99.9, 'High': 100.1, 'Low': 99.7, 'Close': 100.03}, datetime.datetime(2022, 9, 28, 15, 0): {'Open': 99.615, 'High': 100.26, 'Low': 99.96, 'Close': 99.9}, datetime.datetime(2022, 9, 28, 14, 0): {'Open': 99.35, 'High': 100.25, 'Low': 99.9, 'Close': 99.615}, datetime.datetime(2022, 9, 28, 13, 0): {'Open': 99.5, 'High': 100.7, 'Low': 99.8, 'Close': 99.35}, datetime.datetime(2022, 9, 28, 12, 0): {'Open': 98.47, 'High': 100.47, 'Low': 99.62, 'Close': 99.5}, datetime.datetime(2022, 9, 28, 11, 0): {'Open': 97.51, 'High': 99.82, 'Low': 99.39, 'Close': 98.47}, datetime.datetime(2022, 9, 28, 10, 0): {'Open': 97.34, 'High': 99.965, 'Low': 99.07, 'Close': 97.51}, datetime.datetime(2022, 9, 28, 9, 0): {'Open': 96.44, 'High': 99.85, 'Low': 98.61, 'Close': 97.34}, datetime.datetime(2022, 9, 28, 8, 0): {'Open': 96.9, 'High': 98.85, 'Low': 97.215, 'Close': 96.44}, datetime.datetime(2022, 9, 28, 7, 0): {'Open': 95.86, 'High': 98.33, 'Low': 97.11, 'Close': 96.9}, datetime.datetime(2022, 9, 28, 6, 0): {'Open': 96.41, 'High': 97.61, 'Low': 96.55, 'Close': 95.86}, datetime.datetime(2022, 9, 28, 5, 0): {'Open': 97.5, 'High': 97.257, 'Low': 96.29, 'Close': 96.41}, datetime.datetime(2022, 9, 27, 20, 0): {'Open': 97.73, 'High': 97.49, 'Low': 96.55, 'Close': 97.5}, datetime.datetime(2022, 9, 27, 19, 0): {'Open': 97.5001, 'High': 96.89, 'Low': 95.69, 'Close': 97.73}, datetime.datetime(2022, 9, 27, 18, 0): {'Open': 97.57, 'High': 96.61, 'Low': 96.07, 'Close': 97.5001}, datetime.datetime(2022, 9, 27, 17, 0): {'Open': 97.505, 'High': 97.72, 'Low': 96.4, 'Close': 97.57}, datetime.datetime(2022, 9, 27, 16, 0): {'Open': 97.57, 'High': 97.73, 'Low': 97.52, 'Close': 97.505}, datetime.datetime(2022, 9, 27, 15, 0): {'Open': 97.17, 'High': 97.85, 'Low': 97.49, 'Close': 97.57}, datetime.datetime(2022, 9, 27, 14, 0): {'Open': 97.28, 'High': 97.58, 'Low': 97.31, 'Close': 97.17}, datetime.datetime(2022, 9, 27, 13, 0): {'Open': 97.78, 'High': 97.72, 'Low': 96.98, 'Close': 97.28}, datetime.datetime(2022, 9, 27, 12, 0): {'Open': 99.14, 'High': 97.71, 'Low': 96.9, 'Close': 97.78}, datetime.datetime(2022, 9, 27, 11, 0): {'Open': 99.3, 'High': 97.38, 'Low': 96.96, 'Close': 99.14}, datetime.datetime(2022, 9, 27, 10, 0): {'Open': 99.48, 'High': 97.41, 'Low': 96.872, 'Close': 99.3}, datetime.datetime(2022, 9, 27, 9, 0): {'Open': 99.82, 'High': 99.025, 'Low': 97.14, 'Close': 99.48}, datetime.datetime(2022, 9, 27, 8, 0): {'Open': 99.7, 'High': 99.44, 'Low': 98.52, 'Close': 99.82}, datetime.datetime(2022, 9, 27, 7, 0): {'Open': 99.43, 'High': 100.0, 'Low': 98.61, 'Close': 99.7}, datetime.datetime(2022, 9, 27, 6, 0): {'Open': 99.46, 'High': 100.0, 'Low': 99.3, 'Close': 99.43}, datetime.datetime(2022, 9, 27, 5, 0): {'Open': 98.5, 'High': 100.0, 'Low': 97.925, 'Close': 99.46}, datetime.datetime(2022, 9, 26, 20, 0): {'Open': 98.18, 'High': 99.81, 'Low': 99.4, 'Close': 98.5}, datetime.datetime(2022, 9, 26, 19, 0): {'Open': 98.0, 'High': 99.51, 'Low': 99.11, 'Close': 98.18}, datetime.datetime(2022, 9, 26, 18, 0): {'Open': 98.1, 'High': 99.69, 'Low': 99.09, 'Close': 98.0}, datetime.datetime(2022, 9, 26, 17, 0): {'Open': 98.23, 'High': 99.69, 'Low': 98.34, 'Close': 98.1}, datetime.datetime(2022, 9, 26, 16, 0): {'Open': 98.6165, 'High': 98.5, 'Low': 98.0, 'Close': 98.23}, datetime.datetime(2022, 9, 26, 15, 0): {'Open': 97.96, 'High': 98.5, 'Low': 97.96, 'Close': 98.6165}, datetime.datetime(2022, 9, 26, 14, 0): {'Open': 98.484, 'High': 98.17, 'Low': 98.02, 'Close': 97.96}, datetime.datetime(2022, 9, 26, 13, 0): {'Open': 98.69, 'High': 98.97, 'Low': 97.95, 'Close': 98.484}, datetime.datetime(2022, 9, 26, 12, 0): {'Open': 99.22, 'High': 98.98, 'Low': 98.01, 'Close': 98.69}, datetime.datetime(2022, 9, 26, 11, 0): {'Open': 99.4402, 'High': 98.48, 'Low': 97.9179, 'Close': 99.22}, datetime.datetime(2022, 9, 26, 10, 0): {'Open': 98.74, 'High': 98.64, 'Low': 97.8, 'Close': 99.4402}, datetime.datetime(2022, 9, 26, 9, 0): {'Open': 98.07, 'High': 98.81, 'Low': 98.19, 'Close': 98.74}, datetime.datetime(2022, 9, 26, 8, 0): {'Open': 98.15, 'High': 99.88, 'Low': 98.47, 'Close': 98.07}, datetime.datetime(2022, 9, 26, 7, 0): {'Open': 98.11, 'High': 99.75, 'Low': 97.67, 'Close': 98.15}, datetime.datetime(2022, 9, 26, 6, 0): {'Open': 98.87, 'High': 98.85, 'Low': 97.8727, 'Close': 98.11}}\n"
     ]
    }
   ],
   "source": [
    "from tkinter import *\n",
    "from tkinter import messagebox\n",
    "\n",
    "tkWindow = Tk()  \n",
    "tkWindow.geometry('400x150')  \n",
    "tkWindow.title('PythonExamples.org - Tkinter Example')\n",
    "\n",
    "def showMsg(message):  \n",
    "    messagebox.showinfo('Message', 'You clicked the Submit button!', message)\n",
    "\n",
    "button = Button(tkWindow,\n",
    "    text = 'Submit',\n",
    "    command = showMsg(\"Hey There\"))  \n",
    "button.pack()  \n",
    "  \n",
    "tkWindow.mainloop()"
   ]
  }
 ],
 "metadata": {
  "kernelspec": {
   "display_name": "Python 3 (ipykernel)",
   "language": "python",
   "name": "python3"
  },
  "language_info": {
   "codemirror_mode": {
    "name": "ipython",
    "version": 3
   },
   "file_extension": ".py",
   "mimetype": "text/x-python",
   "name": "python",
   "nbconvert_exporter": "python",
   "pygments_lexer": "ipython3",
   "version": "3.10.4"
  }
 },
 "nbformat": 4,
 "nbformat_minor": 5
}
